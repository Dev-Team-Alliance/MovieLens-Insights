//this is print statemet
print("hello world")
